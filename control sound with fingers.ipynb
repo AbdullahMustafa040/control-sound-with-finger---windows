{
 "cells": [
  {
   "cell_type": "code",
   "execution_count": 3,
   "id": "07941dfe-120c-40f3-8881-8a5d1e20adca",
   "metadata": {},
   "outputs": [
    {
     "name": "stdin",
     "output_type": "stream",
     "text": [
      "Enter a volume level (0-100):  100\n"
     ]
    }
   ],
   "source": [
    "from ctypes import cast, POINTER\n",
    "from comtypes import CLSCTX_ALL\n",
    "from pycaw.pycaw import AudioUtilities, IAudioEndpointVolume\n",
    "\n",
    "devices = AudioUtilities.GetSpeakers()\n",
    "interface = devices.Activate(\n",
    "    IAudioEndpointVolume._iid_, CLSCTX_ALL, None)\n",
    "volume = cast(interface, POINTER(IAudioEndpointVolume))\n",
    "\n",
    "def set_volume(v):\n",
    "    # Convert the input value into a float between -65.25 and 0\n",
    "    decibels = -65.25 + v * (65.25 / 100)\n",
    "    volume.SetMasterVolumeLevel(decibels, None)\n",
    "\n",
    "# Ask for a volume level from the user\n",
    "v = float(input(\"Enter a volume level (0-100): \"))\n",
    "set_volume(v)\n"
   ]
  },
  {
   "cell_type": "code",
   "execution_count": 6,
   "id": "ceacf71f-f49c-4412-a09e-860017f06b50",
   "metadata": {},
   "outputs": [
    {
     "data": {
      "application/vnd.jupyter.widget-view+json": {
       "model_id": "27d584f51a1d4171b54fe824d37bf926",
       "version_major": 2,
       "version_minor": 0
      },
      "text/plain": [
       "IntSlider(value=0, description='Volume:')"
      ]
     },
     "metadata": {},
     "output_type": "display_data"
    }
   ],
   "source": [
    "display(volume_slider)"
   ]
  },
  {
   "cell_type": "code",
   "execution_count": 7,
   "id": "68a340aa-478a-4f8d-93fa-6eea8b251391",
   "metadata": {},
   "outputs": [],
   "source": [
    "import cv2\n",
    "import mediapipe as mp\n",
    "import numpy as np\n",
    "from ctypes import cast, POINTER\n",
    "from comtypes import CLSCTX_ALL\n",
    "from pycaw.pycaw import AudioUtilities, IAudioEndpointVolume\n",
    "\n",
    "# Initialize Mediapipe\n",
    "mp_drawing = mp.solutions.drawing_utils\n",
    "mp_hands = mp.solutions.hands\n",
    "\n",
    "# Initialize video capture\n",
    "cap = cv2.VideoCapture(0)\n",
    "\n",
    "# Check if camera opened successfully\n",
    "if not cap.isOpened():\n",
    "    print(\"Unable to open camera\")\n",
    "    exit()\n",
    "\n",
    "# Initialize the volume controller\n",
    "devices = AudioUtilities.GetSpeakers()\n",
    "interface = devices.Activate(\n",
    "    IAudioEndpointVolume._iid_, CLSCTX_ALL, None)\n",
    "volume = cast(interface, POINTER(IAudioEndpointVolume))\n",
    "\n",
    "# Function to set the volume\n",
    "def set_volume(v):\n",
    "    decibels = -65.25 + v * (65.25 / 100)\n",
    "    volume.SetMasterVolumeLevel(decibels, None)\n",
    "\n",
    "# Initialize Mediapipe Hands object\n",
    "with mp_hands.Hands(static_image_mode=False, max_num_hands=2, min_detection_confidence=0.5) as hands:\n",
    "    while True:\n",
    "        # Read the frame from the video capture\n",
    "        ret, frame = cap.read()\n",
    "        if not ret:\n",
    "            print(\"Error reading frame from camera\")\n",
    "            break\n",
    "\n",
    "        # Convert the frame to RGB for Mediapipe\n",
    "        frame_rgb = cv2.cvtColor(frame, cv2.COLOR_BGR2RGB)\n",
    "\n",
    "        # Process the frame with Mediapipe\n",
    "        results = hands.process(frame_rgb)\n",
    "\n",
    "        # Draw hand landmarks on the frame\n",
    "        if results.multi_hand_landmarks:\n",
    "            for hand_landmarks in results.multi_hand_landmarks:\n",
    "                mp_drawing.draw_landmarks(frame, hand_landmarks, mp_hands.HAND_CONNECTIONS,\n",
    "                                          mp_drawing.DrawingSpec(color=(0, 255, 0), thickness=2, circle_radius=4),\n",
    "                                          mp_drawing.DrawingSpec(color=(255, 0, 0), thickness=2, circle_radius=2))\n",
    "\n",
    "                # Get the landmarks for the thumb and index finger\n",
    "                thumb_tip = np.array([hand_landmarks.landmark[4].x, hand_landmarks.landmark[4].y])\n",
    "                index_finger_tip = np.array([hand_landmarks.landmark[8].x, hand_landmarks.landmark[8].y])\n",
    "\n",
    "                # Calculate the distance between the thumb and index finger\n",
    "                distance = np.linalg.norm(thumb_tip - index_finger_tip)\n",
    "\n",
    "                # Map the distance to a volume level and set the volume\n",
    "                volume_level = np.interp(distance, [0, 0.5], [0, 100])  # Adjust the range as needed\n",
    "                set_volume(volume_level)\n",
    "\n",
    "        # Display the frame\n",
    "        cv2.imshow(\"Hand Detection\", frame)\n",
    "\n",
    "        # Check for the 'q' key to exit\n",
    "        if cv2.waitKey(1) == ord(\"q\"):\n",
    "            break\n",
    "\n",
    "# Release the video capture and close all windows\n",
    "cap.release()\n",
    "cv2.destroyAllWindows()\n"
   ]
  },
  {
   "cell_type": "code",
   "execution_count": null,
   "id": "c1487b8e-5d6c-48ea-a34d-498c4f3428b4",
   "metadata": {},
   "outputs": [],
   "source": []
  }
 ],
 "metadata": {
  "kernelspec": {
   "display_name": "myenv",
   "language": "python",
   "name": "myenv"
  },
  "language_info": {
   "codemirror_mode": {
    "name": "ipython",
    "version": 3
   },
   "file_extension": ".py",
   "mimetype": "text/x-python",
   "name": "python",
   "nbconvert_exporter": "python",
   "pygments_lexer": "ipython3",
   "version": "3.11.4"
  }
 },
 "nbformat": 4,
 "nbformat_minor": 5
}
